{
  "nbformat": 4,
  "nbformat_minor": 0,
  "metadata": {
    "colab": {
      "provenance": []
    },
    "kernelspec": {
      "name": "python3",
      "display_name": "Python 3"
    },
    "language_info": {
      "name": "python"
    }
  },
  "cells": [
    {
      "cell_type": "code",
      "source": [
        "import re\n",
        "\n",
        "def detect_emotion(text):\n",
        "    emotions = {\n",
        "        ')))\"': 'strong joy',\n",
        "        '))-)': 'moderate joy',\n",
        "        ')': 'positive',\n",
        "        '!': 'amazement',\n",
        "        '(-': 'sadness',\n",
        "        '((-': 'great sadness',\n",
        "        '...': 'disappointment'\n",
        "    }\n",
        "    emotion_matches = re.findall(r'[.!?](\\s*\\([^)]*\\))*', text)\n",
        "    detected_emotions = [emotions.get(match, 'neutral') for match in emotion_matches]\n",
        "\n",
        "    return detected_emotions\n",
        "\n",
        "# Пример использования\n",
        "text = \"Я так счастлив!))). Но иногда я грущу (-. Но все равно я оптимист!) и верю в лучшее...)!\"\n",
        "emotions = detect_emotion(text)\n",
        "print(emotions)"
      ],
      "metadata": {
        "colab": {
          "base_uri": "https://localhost:8080/"
        },
        "id": "5fFh76wBMVHt",
        "outputId": "f54d2431-f5be-4f31-b6b2-f850499b953d"
      },
      "execution_count": 135,
      "outputs": [
        {
          "output_type": "stream",
          "name": "stdout",
          "text": [
            "['neutral', 'neutral', 'neutral', 'neutral', 'neutral', 'neutral', 'neutral', 'neutral']\n"
          ]
        }
      ]
    }
  ]
}